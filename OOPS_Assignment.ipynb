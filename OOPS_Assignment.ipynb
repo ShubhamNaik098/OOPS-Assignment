{
  "nbformat": 4,
  "nbformat_minor": 0,
  "metadata": {
    "colab": {
      "provenance": []
    },
    "kernelspec": {
      "name": "python3",
      "display_name": "Python 3"
    },
    "language_info": {
      "name": "python"
    }
  },
  "cells": [
    {
      "cell_type": "markdown",
      "source": [
        "**Theoratical Questions**"
      ],
      "metadata": {
        "id": "k6I8pu8Dp-lb"
      }
    },
    {
      "cell_type": "markdown",
      "source": [
        "Q1.What is Object-Oriented Programming (OOP)?"
      ],
      "metadata": {
        "id": "oojfOhyRqC3Z"
      }
    },
    {
      "cell_type": "markdown",
      "source": [
        "Ans.Object oriented Programming(OOPS) in python is a programming model that uses classes and objects to create reusable code that represents real world real world entities and their behaviour.It helps the programmer to create organised and scalable code.\n",
        "\n",
        "Concept of OOPS:-\n",
        "\n",
        "1.Class\n",
        "\n",
        "2.Object\n",
        "\n",
        "3.Encapsulation\n",
        "\n",
        "4.Inheritance.\n",
        "\n",
        "5.Abstraction.\n",
        "\n",
        "6.Polymorphism.\n"
      ],
      "metadata": {
        "id": "sQriyu-SqJbp"
      }
    },
    {
      "cell_type": "markdown",
      "source": [
        "Q2. What is a class in OOP?"
      ],
      "metadata": {
        "id": "rgr3KL7Jsls-"
      }
    },
    {
      "cell_type": "markdown",
      "source": [
        "ANS. Classes are blueprint/template for creating an object.Classes contains attribute(data) and Methods(function) that its object will have."
      ],
      "metadata": {
        "id": "KwGUFfPkspcT"
      }
    },
    {
      "cell_type": "markdown",
      "source": [
        "3.What is an object in OOP?"
      ],
      "metadata": {
        "id": "-IK8GVixtTaB"
      }
    },
    {
      "cell_type": "markdown",
      "source": [
        "Ans.Objects are the instance of a class that defines attribute and behaviour.\n",
        "For e.g a specific Car object might be a red Toyota Corolla that can accelerate or brake."
      ],
      "metadata": {
        "id": "IXu8j99HtXql"
      }
    },
    {
      "cell_type": "markdown",
      "source": [
        "4.What is the difference between abstraction and encapsulation?"
      ],
      "metadata": {
        "id": "EYnPkW2jt34l"
      }
    },
    {
      "cell_type": "markdown",
      "source": [
        "Ans. **Abstraction:** Abstraction is concept of hiding complex implementation.In other words hiding unneeded details and exposing the required to the user.\n",
        "It focus on what an object does rather than how an object does it.\n",
        "\n",
        "**Encapsulation:** Encapsulation is the process of bundling of data and methods in the class.It focus on how data can be protected and controlled within a class."
      ],
      "metadata": {
        "id": "MYw9UbiEt7DH"
      }
    },
    {
      "cell_type": "markdown",
      "source": [
        "Q5.What are dunder methods in Python?"
      ],
      "metadata": {
        "id": "wGMlqsIhv0r9"
      }
    },
    {
      "cell_type": "markdown",
      "source": [
        "Ans. **Dunder Method:** These are methods built-in classes in python.Classes defined these types of methods for creating a custom objects.There are other names od dunder methods like **magic method, special method** etc.\n",
        "All the methods surrounding by double underscore is a dunder method."
      ],
      "metadata": {
        "id": "H8H19mm0v38y"
      }
    },
    {
      "cell_type": "markdown",
      "source": [
        "Q6.Explain the concept of inheritance in OOP?"
      ],
      "metadata": {
        "id": "_wSg_8hvw7oz"
      }
    },
    {
      "cell_type": "markdown",
      "source": [
        "Ans.In python the concept of inheritance is refers to process of child class receiving the properties of parent class.A child can have his property and also have his parent property.\n",
        "\n",
        "Key features:-\n",
        "\n",
        "1.Code reusability- functions and attributes that parent class has, can be reused by child classes,which reduces the redundency in the code.\n",
        "\n",
        "2.Ease of maintainence: Changes made in the parent class automatically reflect in the child classes.\n",
        "\n",
        "3.Extensibility: New functionality can be added to child classes without modifying the parent class.\n",
        "\n",
        "**Syntax of Inheritance**\n",
        "\n",
        "    Class BaseClass:\n",
        "        #Body of the class\n",
        "    Class DerivedClass(BaseClass):\n",
        "        #Body of the derived class.\n",
        "\n",
        "**Types of Inheritance**\n",
        "\n",
        "1.Single Inheritance:\n",
        "\n",
        "2.Multilevel Inheritance:\n",
        "\n",
        "3.Hierarchial Inheritance:\n",
        "\n",
        "4.Hybrid Inheritance:"
      ],
      "metadata": {
        "id": "Qn46I78Nw-gc"
      }
    },
    {
      "cell_type": "markdown",
      "source": [
        "Q7. What is polymorphism in OOP?"
      ],
      "metadata": {
        "id": "NXtH9br3zrVu"
      }
    },
    {
      "cell_type": "markdown",
      "source": [
        "Ans.In polymorphism poly means **'many'** and morph means **'forms/states'**\n",
        "refers to an object taking several forms depending on the methods/data\n",
        "\n",
        "Polymorphism is OOPs takes place in two ways:-\n",
        "\n",
        "1.Method Overloading.\n",
        "\n",
        "2.Method Overriding."
      ],
      "metadata": {
        "id": "crRS4Ar2zz6j"
      }
    },
    {
      "cell_type": "markdown",
      "source": [
        "Q8.How is encapsulation achieved in Python?"
      ],
      "metadata": {
        "id": "3NUt7hKG0kSe"
      }
    },
    {
      "cell_type": "markdown",
      "source": [
        "Ans.1. Access modifiers (public, protected, private) to control access to attributes and methods.\n",
        "\n",
        "2.Getters and setters to safely access and modify private attributes.\n",
        "\n",
        "3.Name mangling for private attributes to discourage direct access."
      ],
      "metadata": {
        "id": "j6b52gPq0nqz"
      }
    },
    {
      "cell_type": "markdown",
      "source": [
        "Q9.What is a constructor in Python?"
      ],
      "metadata": {
        "id": "F1vE7Clc1OT4"
      }
    },
    {
      "cell_type": "markdown",
      "source": [
        "Ans.A constructor in Python is a special method used to initialize the attributes of a class when an object is created.It is typically defined using the __init__ method.It is automatically called when a new object of the class is created."
      ],
      "metadata": {
        "id": "ZXD1Mlam1Tkq"
      }
    },
    {
      "cell_type": "markdown",
      "source": [
        "Q10.What are class and static methods in Python?"
      ],
      "metadata": {
        "id": "6F7r712F3WbP"
      }
    },
    {
      "cell_type": "markdown",
      "source": [
        "Ans. **Class method:**Class method are bound to the class and not to a instance of the class.It can access/modify methods and attributes associated to the class across all the instance.Instead of using **self,cls as the first parameter. @classmethod** is used to define a class method.\n",
        "\n",
        "**Static method:**A static method is a method that does not depend on the class or its instances. The method that can be called without creating any instance of class, and without using self and cls."
      ],
      "metadata": {
        "id": "v0lYYey-3l9V"
      }
    },
    {
      "cell_type": "markdown",
      "source": [
        "Q11.What is method overloading in Python?"
      ],
      "metadata": {
        "id": "tLRBmB9C5rnM"
      }
    },
    {
      "cell_type": "markdown",
      "source": [
        "Ans.Method overloading refers to the ability to define a method in a class to perform different tasks based on the number of argument passed in to it.\n",
        "If you define multiple methods with the same name, the last definition will override the previous ones."
      ],
      "metadata": {
        "id": "YBSjGkw_5wcL"
      }
    },
    {
      "cell_type": "markdown",
      "source": [
        "Q12.What is method overriding in OOP?"
      ],
      "metadata": {
        "id": "DCin5xri7VJ9"
      }
    },
    {
      "cell_type": "markdown",
      "source": [
        "Ans.Method overriding refers the method in parent class and child class with same signature , the child class method will be executed."
      ],
      "metadata": {
        "id": "BZ30dhie7ZB3"
      }
    },
    {
      "cell_type": "markdown",
      "source": [
        "Q13.What is a property decorator in Python?"
      ],
      "metadata": {
        "id": "qpBh8SAd7w2G"
      }
    },
    {
      "cell_type": "markdown",
      "source": [
        "Ans.The @property decorator in Python is a built-in decorator used to define a method as a property. This allows you to access a method like an attribute, without the need to call it explicitly with parentheses."
      ],
      "metadata": {
        "id": "EBMXxIBW71HU"
      }
    },
    {
      "cell_type": "markdown",
      "source": [
        "Q14. Why is polymorphism important in OOP?"
      ],
      "metadata": {
        "id": "55cPdSat8hzY"
      }
    },
    {
      "cell_type": "markdown",
      "source": [
        "Ans.Polymorphism is crucial in OOPs because it enhances code reusability, extensibility, and maintainability.\n",
        "\n",
        "**Benefits**\n",
        "\n",
        "**1.Code Reusability:**\n",
        "\n",
        "Polymorphism allows programmers to reuse code, which saves time and reduces redundancy.\n",
        "\n",
        "**2.Code readability:** Polymorphism allows programmers to use the same name for functions that have different arguments, which can improve code readability.\n",
        "\n",
        "**3.Code extensibility:** Polymorphism allows programmers to create new classes that inherit from existing classes, which makes it easier to extend programs.\n",
        "\n",
        "**4.Code maintainability:** Polymorphism allows programmers to make changes to specific parts of a program without affecting the entire program."
      ],
      "metadata": {
        "id": "Om7LzQKA8lCd"
      }
    },
    {
      "cell_type": "markdown",
      "source": [
        "Q15.What is an abstract class in Python?"
      ],
      "metadata": {
        "id": "YXOlE59t-pcK"
      }
    },
    {
      "cell_type": "markdown",
      "source": [
        "Abstraction is concept of hiding complex implementation.In other words hiding unneeded details and exposing the required to the user. It focus on what an object does rather than how an object does it.Abstract class can't be instantiated.Abstract class should always be subclass."
      ],
      "metadata": {
        "id": "uupdXhQp-t7y"
      }
    },
    {
      "cell_type": "markdown",
      "source": [
        "Q16.What are the advantages of OOP?"
      ],
      "metadata": {
        "id": "L-TbQWa-_MdA"
      }
    },
    {
      "cell_type": "markdown",
      "source": [
        "Ans. 1. OOPs allows you to break down a program into smaller, manageable, and reusable components (classes).\n",
        "\n",
        "2.Classes and objects can be reused in multiple programs, saving time and effort.\n",
        "\n",
        "3.Encapsulation in OOPs ensures the security of the code.\n",
        "\n",
        "4.Abstraction focus on  what the apllication is doing not on how the application is doing.\n",
        "\n",
        "5.Polymorphism plays very crucial role by ensuring that single function of class can do many tasks by simply passing different arguments based on the requirement.\n",
        "\n",
        "6.Inheritance also play some role in OOPs by simply focus on that functions and attributes that parent class has, can be reused by child classes,which reduces the redundency in the code."
      ],
      "metadata": {
        "id": "Tl-NBvgS_PEe"
      }
    },
    {
      "cell_type": "markdown",
      "source": [
        "Q17.What is the difference between a class variable and an instance variable?"
      ],
      "metadata": {
        "id": "gS_Npg_QBbdl"
      }
    },
    {
      "cell_type": "markdown",
      "source": [
        "Ans. **1.Instance Variables:** Variable that are specific to an instance(object) of a class.Belong only to the object that are associated with.Access using self.variable_name.Each instance of a class has its own copy of the instance variables, meaning changes to the variable in one instance do not affect others.\n",
        "\n",
        "**2.Class variable:** Variable that are shared across all instance of a class.\n",
        "Belong to the class itself rather than any individual object.Accessed using the class name (e.g., ClassName.variable_name).Shared by all instances of the class, meaning a change to the variable affects all instances."
      ],
      "metadata": {
        "id": "R1FI9SuHBhei"
      }
    },
    {
      "cell_type": "markdown",
      "source": [
        "Q18. What is multiple inheritance in Python?"
      ],
      "metadata": {
        "id": "D2wKt41QFJHk"
      }
    },
    {
      "cell_type": "markdown",
      "source": [
        "Ans. Multiple inheritance is a feature in object-oriented programming, including Python, where a class can inherit from more than one parent class. This allows the child class to acquire properties and methods from multiple parent classes, enabling more flexible and reusable code.\n",
        "\n",
        "\n",
        "    class Parent1:\n",
        "        # Parent1 attributes and methods\n",
        "        pass\n",
        "\n",
        "    class Parent2:\n",
        "        # Parent2 attributes and methods\n",
        "        pass\n",
        "\n",
        "    class Child(Parent1, Parent2):\n",
        "        # Child class inherits from both Parent1 and Parent2\n",
        "        pass"
      ],
      "metadata": {
        "id": "Et54iTi3FO6D"
      }
    },
    {
      "cell_type": "markdown",
      "source": [
        "Q19.Explain the purpose of ‘’__str__’ and ‘__repr__’ ‘ methods in Python?"
      ],
      "metadata": {
        "id": "dHmyU6zBFtjN"
      }
    },
    {
      "cell_type": "markdown",
      "source": [],
      "metadata": {
        "id": "PI650phlFx81"
      }
    },
    {
      "cell_type": "markdown",
      "source": [
        "Q20. What is the significance of the ‘super()’ function in Python?"
      ],
      "metadata": {
        "id": "7E0P1yWAFySz"
      }
    },
    {
      "cell_type": "markdown",
      "source": [
        "Q21.What is the significance of the __del__ method in Python?"
      ],
      "metadata": {
        "id": "FLpLsVhzF2K7"
      }
    },
    {
      "cell_type": "markdown",
      "source": [
        "Ans.The __del__ method in Python is a special method, also known as a destructor, that is called when an object is about to be destroyed."
      ],
      "metadata": {
        "id": "5_0rgYRzF4v1"
      }
    },
    {
      "cell_type": "markdown",
      "source": [
        "Q22.What is the difference between @staticmethod and @classmethod in Python?"
      ],
      "metadata": {
        "id": "KVjntHVyGY_f"
      }
    },
    {
      "cell_type": "markdown",
      "source": [
        "Ans. **Class method:** Class method are bound to the class and not to a instance of the class.It can access/modify methods and attributes associated to the class across all the instance.Instead of using self,cls as the first parameter. @classmethod is used to define a class method.\n",
        "\n",
        "**Static method:** A static method is a method that does not depend on the class or its instances. The method that can be called without creating any instance of class, and without using self and cls."
      ],
      "metadata": {
        "id": "dO2w1-c-GcWg"
      }
    },
    {
      "cell_type": "markdown",
      "source": [
        "Q23. How does polymorphism work in Python with inheritance?"
      ],
      "metadata": {
        "id": "QAUphd5CGo4I"
      }
    },
    {
      "cell_type": "markdown",
      "source": [
        "Ans.A subclass provides its own implementation of a method that already exists in the parent class. When you call the method on an instance of the subclass, the overridden version is executed.\n",
        "\n",
        "    class Animal:\n",
        "        def sound(self):\n",
        "            return \"Some generic sound\"\n",
        "\n",
        "    class Dog(Animal):\n",
        "        def sound(self):\n",
        "            return \"Bark\"\n",
        "\n",
        "    class Cat(Animal):\n",
        "        def sound(self):\n",
        "            return \"Meow\"\n",
        "\n",
        "    # Demonstrating polymorphism\n",
        "    animals = [Dog(), Cat(), Animal()]\n",
        "\n",
        "    for animal in animals:\n",
        "        print(animal.sound())\n",
        "\n",
        "Here in the above example both Polymorphism and inheritance are working correspondingly."
      ],
      "metadata": {
        "id": "_2z2IHjwGrf8"
      }
    },
    {
      "cell_type": "markdown",
      "source": [
        "Q24.What is method chaining in Python OOP?"
      ],
      "metadata": {
        "id": "SaVKB9K_Ifo8"
      }
    },
    {
      "cell_type": "markdown",
      "source": [
        "Ans."
      ],
      "metadata": {
        "id": "V3MltXktJucn"
      }
    },
    {
      "cell_type": "markdown",
      "source": [
        "Q25.What is the purpose of the __call__ method in Python?"
      ],
      "metadata": {
        "id": "1i7Fie1xIjT2"
      }
    },
    {
      "cell_type": "markdown",
      "source": [
        "Ans.__call__ method is a special or magic method that allows an instance of a class can be called like functions.It encapsulates callable behavior, maintaining state or adding logic."
      ],
      "metadata": {
        "id": "Tzx5bXWnIlyo"
      }
    },
    {
      "cell_type": "markdown",
      "source": [
        "**Practical Questions**"
      ],
      "metadata": {
        "id": "PDroH6bDJ-Zj"
      }
    },
    {
      "cell_type": "markdown",
      "source": [
        "Q1. Create a parent class Animal with a method speak() that prints a generic message. Create a child class Dog\n",
        "that overrides the speak() method to print \"Bark!\"."
      ],
      "metadata": {
        "id": "-RtocPJEKCBl"
      }
    },
    {
      "cell_type": "code",
      "source": [
        "class Animal:\n",
        "    def speak(self):\n",
        "        print(\"Some generic sound\")\n",
        "\n",
        "class Dog(Animal):\n",
        "    def speak(self):\n",
        "        print(\"Bark\")\n",
        "\n",
        "\n",
        "anim = Dog()\n",
        "anim.speak()"
      ],
      "metadata": {
        "id": "KTVefyUu83_q",
        "colab": {
          "base_uri": "https://localhost:8080/"
        },
        "outputId": "ec18817e-5f4e-4da4-a530-2bb22d7282e1"
      },
      "execution_count": 1,
      "outputs": [
        {
          "output_type": "stream",
          "name": "stdout",
          "text": [
            "Bark\n"
          ]
        }
      ]
    },
    {
      "cell_type": "code",
      "source": [],
      "metadata": {
        "id": "L0DLRDh6MqXk"
      },
      "execution_count": null,
      "outputs": []
    },
    {
      "cell_type": "markdown",
      "source": [
        "Q2.Write a program to create an abstract class Shape with a method area(). Derive classes Circle and Rectangle from it and implement the area() method in both."
      ],
      "metadata": {
        "id": "UmRUXSJzMvk1"
      }
    },
    {
      "cell_type": "code",
      "source": [
        "import abc\n",
        "class Shape:\n",
        "    @abc.abstractmethod\n",
        "    def area(self):\n",
        "        pass\n",
        "class Circle(Shape):\n",
        "    def __init__(self,radius):\n",
        "        self.radius = radius\n",
        "    def area(self):\n",
        "        return 3.14*self.radius**2\n",
        "class Rectangle(Shape):\n",
        "    def __init__(self,length,width):\n",
        "        self.length = length\n",
        "        self.width = width\n",
        "    def area(self):\n",
        "        return self.length*self.width\n"
      ],
      "metadata": {
        "id": "MKtdxR_qM16B"
      },
      "execution_count": 3,
      "outputs": []
    },
    {
      "cell_type": "code",
      "source": [
        "shubh = Circle(5)\n",
        "print(shubh.area())\n",
        "aryan = Rectangle(4,5)\n",
        "print(aryan.area())"
      ],
      "metadata": {
        "colab": {
          "base_uri": "https://localhost:8080/"
        },
        "id": "VizQDOJjNSzW",
        "outputId": "a28fdd95-e9c6-47e7-9fa4-18cf197e2520"
      },
      "execution_count": 7,
      "outputs": [
        {
          "output_type": "stream",
          "name": "stdout",
          "text": [
            "78.5\n",
            "20\n"
          ]
        }
      ]
    },
    {
      "cell_type": "markdown",
      "source": [
        "Q3. Implement a multi-level inheritance scenario where a class Vehicle has an attribute type. Derive a class Car and further derive a class ElectricCar that adds a battery attribute."
      ],
      "metadata": {
        "id": "okW5SaNiXbgd"
      }
    },
    {
      "cell_type": "code",
      "source": [
        "class Vehicle:\n",
        "    def __init__(self,type):\n",
        "        self.type = type\n",
        "class Car(Vehicle):\n",
        "    pass\n",
        "class ElectricCar(Car):\n",
        "    def __init__(self,type,battery):\n",
        "        super().__init__(type)\n",
        "        self.battery = battery\n",
        "\n",
        "automobile = ElectricCar(\"Electric\",100)\n",
        "print(automobile.type)\n",
        "print(automobile.battery)"
      ],
      "metadata": {
        "colab": {
          "base_uri": "https://localhost:8080/"
        },
        "id": "g6r3aivKXhpK",
        "outputId": "a231d4d1-3473-4c9b-8812-758d57895143"
      },
      "execution_count": 6,
      "outputs": [
        {
          "output_type": "stream",
          "name": "stdout",
          "text": [
            "Electric\n",
            "100\n"
          ]
        }
      ]
    },
    {
      "cell_type": "markdown",
      "source": [
        "Q4. Implement a multi-level inheritance scenario where a class Vehicle has an attribute type. Derive a class Car and further derive a class ElectricCar that adds a battery attribute."
      ],
      "metadata": {
        "id": "0QT4mkBFb-A2"
      }
    },
    {
      "cell_type": "code",
      "source": [
        "class Vehicle:\n",
        "    def __init__(self,type):\n",
        "        self.type = type\n",
        "class Car(Vehicle):\n",
        "    pass\n",
        "class ElectricCar(Car):\n",
        "    def __init__(self,type,battery):\n",
        "        super().__init__(type)\n",
        "        self.battery = battery\n",
        "\n",
        "automobile = ElectricCar(\"Electric\",100)\n",
        "print(automobile.type)\n",
        "print(automobile.battery)"
      ],
      "metadata": {
        "colab": {
          "base_uri": "https://localhost:8080/"
        },
        "id": "ZS_rNP8CcGGX",
        "outputId": "6d0b27a8-ec18-4b6f-fe97-5da1be5a2162"
      },
      "execution_count": 8,
      "outputs": [
        {
          "output_type": "stream",
          "name": "stdout",
          "text": [
            "Electric\n",
            "100\n"
          ]
        }
      ]
    },
    {
      "cell_type": "markdown",
      "source": [
        "Q5.Write a program to demonstrate encapsulation by creating a class BankAccount with private attributes balance and methods to deposit, withdraw, and check balance."
      ],
      "metadata": {
        "id": "bQqbJiI_cOv3"
      }
    },
    {
      "cell_type": "code",
      "source": [
        "class BankAccount:\n",
        "    def __init__(self,balance):\n",
        "        self.__balance = balance\n",
        "    def deposit(self,amount):\n",
        "        self.__balance += amount\n",
        "    def withdraw(self,amount):\n",
        "        if self.__balance >= amount:\n",
        "            self.__balance -= amount\n",
        "\n",
        "bank = BankAccount(1000)\n",
        "bank.deposit(500)\n",
        "bank.withdraw(200)\n",
        "print(bank._BankAccount__balance)"
      ],
      "metadata": {
        "colab": {
          "base_uri": "https://localhost:8080/"
        },
        "id": "yJQMbv7gcL-Z",
        "outputId": "3a599a9d-7df6-4636-c96a-a98abbc55c8e"
      },
      "execution_count": 12,
      "outputs": [
        {
          "output_type": "stream",
          "name": "stdout",
          "text": [
            "1300\n"
          ]
        }
      ]
    },
    {
      "cell_type": "markdown",
      "source": [
        "Q6.Demonstrate runtime polymorphism using a method play() in a base class Instrument. Derive classes Guitar and Piano that implement their own version of play()."
      ],
      "metadata": {
        "id": "ztf8Og7ffauH"
      }
    },
    {
      "cell_type": "code",
      "source": [
        "class Instrument:\n",
        "    def play(self):\n",
        "        pass\n",
        "class Guitar(Instrument):\n",
        "    def play(self):\n",
        "        print(\"Guitar is playing\")\n",
        "class Piano(Instrument):\n",
        "    def play(self):\n",
        "        print(\"Piano is playing\")\n",
        "\n",
        "singing = Guitar()\n",
        "singing.play()\n",
        "singing1 = Piano()\n",
        "singing1.play()"
      ],
      "metadata": {
        "colab": {
          "base_uri": "https://localhost:8080/"
        },
        "id": "IfM4cWORffvr",
        "outputId": "4e43d729-362f-418d-be9f-9e6ca39156a0"
      },
      "execution_count": 17,
      "outputs": [
        {
          "output_type": "stream",
          "name": "stdout",
          "text": [
            "Guitar is playing\n",
            "Piano is playing\n"
          ]
        }
      ]
    },
    {
      "cell_type": "markdown",
      "source": [
        "Q7. Create a class MathOperations with a class method add_numbers() to add two numbers and a static method subtract_numbers() to subtract two numbers."
      ],
      "metadata": {
        "id": "Fq-PHP_Jhhov"
      }
    },
    {
      "cell_type": "code",
      "source": [
        "class MathOperations:\n",
        "    @classmethod\n",
        "    def add_numbers(cls,a,b):\n",
        "        return a+b\n",
        "    @staticmethod\n",
        "    def subtract_numbers(a,b):\n",
        "        return a-b\n",
        "\n",
        "print(MathOperations.add_numbers(10,6))\n",
        "print(MathOperations.subtract_numbers(10,6))"
      ],
      "metadata": {
        "colab": {
          "base_uri": "https://localhost:8080/"
        },
        "id": "KLbMSfEMhlRO",
        "outputId": "bdf2128c-7ef1-4ee2-eaeb-2493b7daf653"
      },
      "execution_count": 20,
      "outputs": [
        {
          "output_type": "stream",
          "name": "stdout",
          "text": [
            "16\n",
            "4\n"
          ]
        }
      ]
    },
    {
      "cell_type": "markdown",
      "source": [
        "Q8. Implement a class Person with a class method to count the total number of persons created."
      ],
      "metadata": {
        "id": "MsL_kVSuiVpG"
      }
    },
    {
      "cell_type": "code",
      "source": [
        "class Person:\n",
        "    count = 0\n",
        "    def __init__(self,name,age):\n",
        "        self.name = name\n",
        "        self.age = age\n",
        "        Person.count += 1\n",
        "    @classmethod\n",
        "    def total_persons(cls):\n",
        "        return cls.count\n",
        "\n",
        "abhi = Person(\"Abhishek\",20)\n",
        "shubh = Person(\"Shubham\",21)\n",
        "print(Person.total_persons())"
      ],
      "metadata": {
        "colab": {
          "base_uri": "https://localhost:8080/"
        },
        "id": "_ZlP26-1iXmq",
        "outputId": "b8a98997-b27f-4857-d9cf-5456dc0d74f5"
      },
      "execution_count": 21,
      "outputs": [
        {
          "output_type": "stream",
          "name": "stdout",
          "text": [
            "2\n"
          ]
        }
      ]
    },
    {
      "cell_type": "markdown",
      "source": [
        "Q9. Write a class Fraction with attributes numerator and denominator. Override the str method to display the\n",
        "fraction as \"numerator/denominator\"."
      ],
      "metadata": {
        "id": "y7SPDIOMj24w"
      }
    },
    {
      "cell_type": "code",
      "source": [
        "class Fraction:\n",
        "    def __init__(self,numerator,denominator):\n",
        "        self.numerator = numerator\n",
        "        self.denominator = denominator\n",
        "    def __str__(self):\n",
        "        return f\"{self.numerator}/{self.denominator}\"\n",
        "\n",
        "fraction = Fraction(1,2)\n",
        "print(fraction)"
      ],
      "metadata": {
        "colab": {
          "base_uri": "https://localhost:8080/"
        },
        "id": "D6XnxjFCj6yO",
        "outputId": "84bc6992-cf3a-403a-e67e-3f31377624fc"
      },
      "execution_count": 35,
      "outputs": [
        {
          "output_type": "stream",
          "name": "stdout",
          "text": [
            "1/2\n"
          ]
        }
      ]
    },
    {
      "cell_type": "markdown",
      "source": [
        "Q10.Demonstrate operator overloading by creating a class Vector and overriding the add method to add two\n",
        "vectors."
      ],
      "metadata": {
        "id": "wlIzVhb_nE8v"
      }
    },
    {
      "cell_type": "code",
      "source": [
        "class Vector:\n",
        "    def __init__(self,x,y):\n",
        "        self.x = x\n",
        "        self.y = y\n",
        "    def __add__(self,other):\n",
        "        return Vector(self.x + other.x,self.y + other.y)\n",
        "\n",
        "vector1 = Vector(1,2)\n",
        "vector2 = Vector(3,4)\n",
        "result = vector1 + vector2\n",
        "print(result.x,result.y)"
      ],
      "metadata": {
        "colab": {
          "base_uri": "https://localhost:8080/"
        },
        "id": "k3Ro49B3nJvA",
        "outputId": "ede83a14-712f-408e-9857-6e1ff89966e8"
      },
      "execution_count": 36,
      "outputs": [
        {
          "output_type": "stream",
          "name": "stdout",
          "text": [
            "4 6\n"
          ]
        }
      ]
    },
    {
      "cell_type": "markdown",
      "source": [
        "Q11. Create a class Person with attributes name and age. Add a method greet() that prints \"Hello, my name is {name} and I am {age} years old.\""
      ],
      "metadata": {
        "id": "I3onNKi8oUiX"
      }
    },
    {
      "cell_type": "code",
      "source": [
        "class Person:\n",
        "    def __init__(self,name,age):\n",
        "        self.name = name\n",
        "        self.age = age\n",
        "    def greet(self):\n",
        "        print(\"Hello, my name is \", self.name , \" and I am \" , self.age ,  \"years old.\")\n",
        "\n",
        "person = Person(\"Abhishek\",27)\n",
        "person.greet()"
      ],
      "metadata": {
        "colab": {
          "base_uri": "https://localhost:8080/"
        },
        "id": "VfORWlOhoWZV",
        "outputId": "ffe0bfdf-253d-4dfe-fc94-a6f478032886"
      },
      "execution_count": 40,
      "outputs": [
        {
          "output_type": "stream",
          "name": "stdout",
          "text": [
            "Hello, my name is  Abhishek  and I am  27 years old.\n"
          ]
        }
      ]
    },
    {
      "cell_type": "markdown",
      "source": [
        "Q12. Implement a class Student with attributes name and grades. Create a method average_grade() to compute\n",
        "the average of the grades."
      ],
      "metadata": {
        "id": "rKy6jRE3p8YN"
      }
    },
    {
      "cell_type": "code",
      "source": [
        "class Student:\n",
        "    def __init__(self,name,grades):\n",
        "        self.name = name\n",
        "        self.grades = grades\n",
        "    def average_grade(self):\n",
        "        return sum(self.grades)/len(self.grades)\n",
        "\n",
        "student = Student(\"Abhishek\",[10,20,30,40,50])\n",
        "print(student.average_grade())"
      ],
      "metadata": {
        "colab": {
          "base_uri": "https://localhost:8080/"
        },
        "id": "uzZNXAzPp_Bd",
        "outputId": "a3b8389b-90a6-4109-adf7-c0ae8b27bd31"
      },
      "execution_count": 41,
      "outputs": [
        {
          "output_type": "stream",
          "name": "stdout",
          "text": [
            "30.0\n"
          ]
        }
      ]
    },
    {
      "cell_type": "markdown",
      "source": [
        "Q13.Create a class Rectangle with methods set_dimensions() to set the dimensions and area() to calculate the area"
      ],
      "metadata": {
        "id": "Bzkjfyxaqp2V"
      }
    },
    {
      "cell_type": "code",
      "source": [
        "class Rectangle:\n",
        "    def __init__(self,length,width):\n",
        "        self.length = length\n",
        "        self.width = width\n",
        "    def set_dimensions(self,length,width):\n",
        "        self.length = length\n",
        "        self.width = width\n",
        "    def area(self):\n",
        "        return self.length*self.width\n",
        "\n",
        "rectangle = Rectangle(10,20)\n",
        "print(rectangle.area())\n",
        "rectangle.set_dimensions(20,30)\n",
        "print(rectangle.area())"
      ],
      "metadata": {
        "colab": {
          "base_uri": "https://localhost:8080/"
        },
        "id": "5ssRUEBIqvxV",
        "outputId": "be94f7b5-6d92-4392-94ee-ff3f7a6dc8f9"
      },
      "execution_count": 42,
      "outputs": [
        {
          "output_type": "stream",
          "name": "stdout",
          "text": [
            "200\n",
            "600\n"
          ]
        }
      ]
    },
    {
      "cell_type": "markdown",
      "source": [
        "Q14. Create a class Employee with a method calculate_salary() that computes the salary based on hours worked and hourly rate. Create a derived class Manager that adds a bonus to the salary."
      ],
      "metadata": {
        "id": "aKJ9SdV2rhNl"
      }
    },
    {
      "cell_type": "code",
      "source": [
        "class Employee:\n",
        "    def __init__(self,name,hours_worked,hourly_rate):\n",
        "        self.name = name\n",
        "        self.hours_worked = hours_worked\n",
        "        self.hourly_rate = hourly_rate\n",
        "    def calculate_salary(self):\n",
        "        return self.hours_worked*self.hourly_rate\n",
        "\n",
        "class Manager(Employee):\n",
        "    def __init__(self,name,hours_worked,hourly_rate,add_bonus):\n",
        "        super().__init__(name,hours_worked,hourly_rate)\n",
        "        self.add_bonus = add_bonus\n",
        "    def calculate_salary(self):\n",
        "        return super().calculate_salary() + self.add_bonus\n",
        "\n",
        "manager = Manager(\"Abhishek\",100,10,1000)\n",
        "print(manager.calculate_salary())\n"
      ],
      "metadata": {
        "colab": {
          "base_uri": "https://localhost:8080/"
        },
        "id": "gDbH6pObrk4N",
        "outputId": "1696a973-437d-4473-8682-6e7f1ce6e586"
      },
      "execution_count": 44,
      "outputs": [
        {
          "output_type": "stream",
          "name": "stdout",
          "text": [
            "2000\n"
          ]
        }
      ]
    },
    {
      "cell_type": "markdown",
      "source": [
        "Q15. Create a class Product with attributes name, price, and quantity. Implement a method total_price() that calculates the total price of the product."
      ],
      "metadata": {
        "id": "MHDDp-Myw81b"
      }
    },
    {
      "cell_type": "code",
      "source": [
        "class Product:\n",
        "    def __init__(self,name,price,quantity):\n",
        "        self.name = name\n",
        "        self.price = price\n",
        "        self.quantity = quantity\n",
        "    def calculate_price(self):\n",
        "        return self.price * self.quantity\n",
        "\n",
        "product1 = Product(\"Mathematics\",3200,10)\n",
        "print(product1.calculate_price())"
      ],
      "metadata": {
        "colab": {
          "base_uri": "https://localhost:8080/"
        },
        "id": "nN7g9QwTw__f",
        "outputId": "b009ec7a-fba3-4e14-fa68-1a18fe1c8560"
      },
      "execution_count": 46,
      "outputs": [
        {
          "output_type": "stream",
          "name": "stdout",
          "text": [
            "32000\n"
          ]
        }
      ]
    },
    {
      "cell_type": "markdown",
      "source": [
        "Q16. Create a class Animal with an abstract method sound(). Create two derived classes Cow and Sheep that\n",
        "implement the sound() method."
      ],
      "metadata": {
        "id": "-hyec9IUyDZR"
      }
    },
    {
      "cell_type": "code",
      "source": [
        "import abc\n",
        "class Animal:\n",
        "    @abc.abstractmethod\n",
        "    def sound(self):\n",
        "        pass\n",
        "class Cow(Animal):\n",
        "    def sound(self):\n",
        "        print(\"I am a cow\")\n",
        "class Sheep(Animal):\n",
        "    def sound(self):\n",
        "        print(\"I am a sheep\")\n",
        "\n",
        "animal = Cow()\n",
        "animal.sound()\n",
        "animal1 = Sheep()\n",
        "animal1.sound()"
      ],
      "metadata": {
        "colab": {
          "base_uri": "https://localhost:8080/"
        },
        "id": "DEuDZvCByGxH",
        "outputId": "53419c9f-307c-4cd4-af55-58def178972a"
      },
      "execution_count": 47,
      "outputs": [
        {
          "output_type": "stream",
          "name": "stdout",
          "text": [
            "I am a cow\n",
            "I am a sheep\n"
          ]
        }
      ]
    },
    {
      "cell_type": "markdown",
      "source": [
        "Q17. Create a class Book with attributes title, author, and year_published. Add a method get_book_info() that returns a formatted string with the book's details."
      ],
      "metadata": {
        "id": "ktTR-qvOyzUD"
      }
    },
    {
      "cell_type": "code",
      "source": [
        "class Book:\n",
        "    def __init__(self,title,author,year_published):\n",
        "        self.title = title\n",
        "        self.author = author\n",
        "        self.year_published = year_published\n",
        "    def get_book_info(self):\n",
        "        return f\"{self.title} {self.author} {self.year_published}\"\n",
        "\n",
        "book = Book(\"Mathematics\",\"R.D.Sharma\",1999)\n",
        "print(book.get_book_info())\n",
        "book1 = Book(\"Science\",\"Kiran Devi\",2000)\n",
        "print(book1.get_book_info())"
      ],
      "metadata": {
        "colab": {
          "base_uri": "https://localhost:8080/"
        },
        "id": "2JISTp-Fy37i",
        "outputId": "edb4ed69-f8cd-420d-d743-c6a2de53a118"
      },
      "execution_count": 48,
      "outputs": [
        {
          "output_type": "stream",
          "name": "stdout",
          "text": [
            "Mathematics R.D.Sharma 1999\n",
            "Science Kiran Devi 2000\n"
          ]
        }
      ]
    },
    {
      "cell_type": "markdown",
      "source": [
        "Q18.Create a class House with attributes address and price. Create a derived class Mansion that adds an\n",
        "attribute number_of_rooms."
      ],
      "metadata": {
        "id": "G-Xywz4y0WSX"
      }
    },
    {
      "cell_type": "code",
      "source": [
        "class House:\n",
        "    def __init__(self,address,price):\n",
        "        self.address = address\n",
        "        self.price = price\n",
        "class Mansion(House):\n",
        "    def __init__(self,address,price,number_of_rooms):\n",
        "        super().__init__(address,price)\n",
        "        self.number_of_rooms = number_of_rooms\n",
        "\n",
        "information = Mansion(\"Delhi\",100000,10)\n",
        "print(information.address)\n",
        "print(information.price)\n",
        "print(information.number_of_rooms)"
      ],
      "metadata": {
        "colab": {
          "base_uri": "https://localhost:8080/"
        },
        "id": "JLKVgHrp0Z-X",
        "outputId": "688f636d-a449-4a0b-973b-2a15252161f7"
      },
      "execution_count": 49,
      "outputs": [
        {
          "output_type": "stream",
          "name": "stdout",
          "text": [
            "Delhi\n",
            "100000\n",
            "10\n"
          ]
        }
      ]
    },
    {
      "cell_type": "code",
      "source": [],
      "metadata": {
        "id": "t2Q2WZKj10XM"
      },
      "execution_count": null,
      "outputs": []
    }
  ]
}